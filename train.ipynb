{
 "cells": [
  {
   "cell_type": "code",
   "execution_count": null,
   "id": "2a29cbe9",
   "metadata": {},
   "outputs": [],
   "source": [
    "image_dir = 'datasets/traffic-signs-detection1/train/images'\n",
    "data_yaml = 'datasets/traffic-signs-detection1/data.yaml'"
   ]
  },
  {
   "cell_type": "code",
   "execution_count": null,
   "id": "d37f3684",
   "metadata": {},
   "outputs": [],
   "source": [
    "# Import Essential Libraries\n",
    "import os\n",
    "import random\n",
    "import pandas as pd\n",
    "from PIL import Image\n",
    "import cv2\n",
    "from ultralytics import YOLO\n",
    "from IPython.display import Video\n",
    "import numpy as np  \n",
    "import matplotlib.pyplot as plt\n",
    "import seaborn as sns\n",
    "sns.set(style='darkgrid')\n",
    "import pathlib\n",
    "import glob\n",
    "from tqdm.notebook import trange, tqdm\n",
    "from ultralytics import YOLO\n",
    "import warnings\n",
    "warnings.filterwarnings('ignore')"
   ]
  },
  {
   "cell_type": "code",
   "execution_count": null,
   "id": "d866076b",
   "metadata": {},
   "outputs": [],
   "source": [
    "# Configure the visual appearance of Seaborn plots\n",
    "sns.set(rc={'axes.facecolor': '#eae8fa'}, style='darkgrid')"
   ]
  },
  {
   "cell_type": "code",
   "execution_count": null,
   "id": "042eaed5",
   "metadata": {},
   "outputs": [],
   "source": [
    "# Import all images from the directory\n",
    "image_files = os.listdir(image_dir)\n",
    "imported_images = image_files\n",
    "print(f'Total images imported: {len(imported_images)}')"
   ]
  },
  {
   "cell_type": "code",
   "execution_count": null,
   "id": "f7310ad0",
   "metadata": {},
   "outputs": [],
   "source": [
    "# Print the shape of all imported images from the directory\n",
    "image_files = os.listdir(image_dir)\n",
    "for idx, image_name in enumerate(image_files):\n",
    "    img_path = os.path.join(image_dir, image_name)\n",
    "    img = cv2.imread(img_path)\n",
    "    if img is not None:\n",
    "        h, w, c = img.shape\n",
    "        print(f'Image {idx+1}: {image_name} - shape: {w}x{h}, channels: {c}')\n",
    "    else:\n",
    "        print(f'Image {idx+1}: {image_name} - could not be loaded.')"
   ]
  },
  {
   "cell_type": "code",
   "execution_count": null,
   "id": "b91a3dbf",
   "metadata": {},
   "outputs": [],
   "source": [
    "model = YOLO('yolov8n.pt')  # You can use yolov8s.pt, yolov8m.pt, etc.\n",
    "results = model.train(\n",
    "    data=data_yaml,  # Full path to the dataset config file\n",
    "    epochs=50,        # Number of epochs\n",
    "    imgsz=640,        # Image size\n",
    "    batch=16         # Batch size\n",
    ")"
   ]
  }
 ],
 "metadata": {
  "kernelspec": {
   "display_name": "Python 3",
   "language": "python",
   "name": "python3"
  },
  "language_info": {
   "codemirror_mode": {
    "name": "ipython",
    "version": 3
   },
   "file_extension": ".py",
   "mimetype": "text/x-python",
   "name": "python",
   "nbconvert_exporter": "python",
   "pygments_lexer": "ipython3",
   "version": "3.12.2"
  }
 },
 "nbformat": 4,
 "nbformat_minor": 5
}
