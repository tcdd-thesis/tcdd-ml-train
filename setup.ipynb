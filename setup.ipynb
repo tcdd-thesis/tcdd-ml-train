{
 "cells": [
  {
   "cell_type": "code",
   "execution_count": null,
   "id": "e11faaca",
   "metadata": {},
   "outputs": [],
   "source": [
    "!git init\n",
    "!git remote add origin https://github.com/tcdd-thesis/tcdd-ml-train.git\n",
    "!git fetch origin\n",
    "!git checkout -t origin/master\n",
    "!curl -LsSf https://astral.sh/uv/install.sh | sh\n",
    "!uv venv .venv --python=3.13.3\n",
    "!source .venv/Scripts/activate\n",
    "!uv pip install -r requirements.txt\n",
    "!chmod +x curl-kaggle-dataset.sh\n",
    "!./curl-kaggle-dataset.sh"
   ]
  }
 ],
 "metadata": {
  "language_info": {
   "name": "python"
  }
 },
 "nbformat": 4,
 "nbformat_minor": 5
}
